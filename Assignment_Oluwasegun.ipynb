{
 "cells": [
  {
   "cell_type": "markdown",
   "id": "fe5db2bb-c259-46e9-9b04-af21e9c2b2cc",
   "metadata": {},
   "source": [
    "Question 1\n",
    "\n",
    "What data type is each of the following (evaluate where necessary)?"
   ]
  },
  {
   "cell_type": "code",
   "execution_count": null,
   "id": "76d3c577-c358-4c89-95a6-208c90a19250",
   "metadata": {},
   "outputs": [],
   "source": [
    "5"
   ]
  },
  {
   "cell_type": "code",
   "execution_count": 1,
   "id": "ab2e83ec-240c-403a-b3cc-93109029d5f6",
   "metadata": {},
   "outputs": [
    {
     "name": "stdout",
     "output_type": "stream",
     "text": [
      "<class 'int'>\n"
     ]
    }
   ],
   "source": [
    "x = 5;\n",
    "print(type(x))"
   ]
  },
  {
   "cell_type": "markdown",
   "id": "d3ff6acf-72c5-4176-af52-02755a397ba0",
   "metadata": {},
   "source": []
  },
  {
   "cell_type": "code",
   "execution_count": null,
   "id": "3ae80156-3bba-408e-a66e-011a33c4b5b5",
   "metadata": {},
   "outputs": [],
   "source": [
    "5.0"
   ]
  },
  {
   "cell_type": "code",
   "execution_count": 2,
   "id": "b860cb8d-754e-46aa-be22-47d297bfb703",
   "metadata": {},
   "outputs": [
    {
     "name": "stdout",
     "output_type": "stream",
     "text": [
      "<class 'float'>\n"
     ]
    }
   ],
   "source": [
    "x = 5.0;\n",
    "print(type(x))"
   ]
  },
  {
   "cell_type": "code",
   "execution_count": 3,
   "id": "90dde148-b118-423e-a4d3-df44be50c80d",
   "metadata": {},
   "outputs": [
    {
     "name": "stdout",
     "output_type": "stream",
     "text": [
      "<class 'bool'>\n"
     ]
    },
    {
     "data": {
      "text/plain": [
       "'5'"
      ]
     },
     "execution_count": 3,
     "metadata": {},
     "output_type": "execute_result"
    }
   ],
   "source": [
    "5 > 1\n",
    "\n",
    "print(type(5>1))\n",
    "\n",
    "'5'"
   ]
  },
  {
   "cell_type": "code",
   "execution_count": null,
   "id": "4503574e-050c-4aff-b7ad-1f8465fba285",
   "metadata": {},
   "outputs": [],
   "source": [
    "5 * 2"
   ]
  },
  {
   "cell_type": "code",
   "execution_count": 4,
   "id": "43707b39-d3ae-4e97-a971-5173d8dff7bd",
   "metadata": {},
   "outputs": [
    {
     "name": "stdout",
     "output_type": "stream",
     "text": [
      "<class 'str'>\n"
     ]
    }
   ],
   "source": [
    "x = '5' + '2'\n",
    "print(type(x))"
   ]
  },
  {
   "cell_type": "code",
   "execution_count": null,
   "id": "92daaf99-5e2a-4c53-be73-e28f986311de",
   "metadata": {},
   "outputs": [],
   "source": [
    "5 / 2"
   ]
  },
  {
   "cell_type": "code",
   "execution_count": 5,
   "id": "a8ceb8ea-e4c7-4280-b5d4-2794edfa8632",
   "metadata": {},
   "outputs": [
    {
     "name": "stdout",
     "output_type": "stream",
     "text": [
      "<class 'float'>\n"
     ]
    }
   ],
   "source": [
    "x = 5 / 2\n",
    "print(type(x))"
   ]
  },
  {
   "cell_type": "code",
   "execution_count": null,
   "id": "ac39134e-f8ff-4d56-b046-22b15a4aae9d",
   "metadata": {},
   "outputs": [],
   "source": [
    "5 % 2"
   ]
  },
  {
   "cell_type": "code",
   "execution_count": 6,
   "id": "f8135e60-33ca-4ce3-aba4-2e80e1bce6b3",
   "metadata": {},
   "outputs": [
    {
     "name": "stdout",
     "output_type": "stream",
     "text": [
      "<class 'int'>\n"
     ]
    }
   ],
   "source": [
    "x = 5 % 2\n",
    "print(type(x))"
   ]
  },
  {
   "cell_type": "code",
   "execution_count": null,
   "id": "06002722-bd47-4152-8de4-fcff0e330700",
   "metadata": {},
   "outputs": [],
   "source": []
  },
  {
   "cell_type": "code",
   "execution_count": null,
   "id": "6f16b682-9a17-47bd-9fab-df32e2792c16",
   "metadata": {},
   "outputs": [],
   "source": [
    "{5, 2, 1}"
   ]
  },
  {
   "cell_type": "code",
   "execution_count": 7,
   "id": "cdee3c30-d61a-484f-9556-91454487fc13",
   "metadata": {},
   "outputs": [
    {
     "name": "stdout",
     "output_type": "stream",
     "text": [
      "<class 'set'>\n"
     ]
    }
   ],
   "source": [
    "x = {5, 2, 1}\n",
    "print(type(x))"
   ]
  },
  {
   "cell_type": "code",
   "execution_count": null,
   "id": "ea9cd78c-bcd8-47da-8e30-8a62ceaf3cd3",
   "metadata": {},
   "outputs": [],
   "source": [
    "5 == 3"
   ]
  },
  {
   "cell_type": "code",
   "execution_count": 8,
   "id": "ac097b3e-9860-423d-b668-56f704e40adb",
   "metadata": {},
   "outputs": [
    {
     "name": "stdout",
     "output_type": "stream",
     "text": [
      "<class 'bool'>\n"
     ]
    }
   ],
   "source": [
    "print(type(5==3))"
   ]
  },
  {
   "cell_type": "code",
   "execution_count": null,
   "id": "4a723979-4000-41f7-81af-94c7ededa8ab",
   "metadata": {},
   "outputs": [],
   "source": []
  },
  {
   "cell_type": "code",
   "execution_count": null,
   "id": "420db524-0d3e-40c8-ab85-9163fe41dfc4",
   "metadata": {},
   "outputs": [],
   "source": [
    "Pi"
   ]
  },
  {
   "cell_type": "code",
   "execution_count": 9,
   "id": "7f9ec0f0-e9ec-4096-a745-d59be946064f",
   "metadata": {},
   "outputs": [
    {
     "name": "stdout",
     "output_type": "stream",
     "text": [
      "<class 'float'>\n"
     ]
    }
   ],
   "source": [
    "import math\n",
    "print(type(math.pi))"
   ]
  },
  {
   "cell_type": "code",
   "execution_count": null,
   "id": "dbf5a5f9-e691-4f80-b9f3-3726dc3a29fb",
   "metadata": {},
   "outputs": [],
   "source": []
  },
  {
   "cell_type": "code",
   "execution_count": null,
   "id": "db5ac5f4-5142-4b0c-ae58-c07988b90cbd",
   "metadata": {},
   "outputs": [],
   "source": [
    "Question 2 Write (and evaluate) python expressions that answer these questions:\n"
   ]
  },
  {
   "cell_type": "code",
   "execution_count": null,
   "id": "0943bf40-67ed-4032-bba4-06a336c5d7a8",
   "metadata": {},
   "outputs": [],
   "source": []
  },
  {
   "cell_type": "code",
   "execution_count": null,
   "id": "f22b76f4-f3b1-4f18-9a1e-ee6f2b83e271",
   "metadata": {},
   "outputs": [],
   "source": [
    "a. How many letters are there in 'Supercalifragilisticexpialidocious'?"
   ]
  },
  {
   "cell_type": "code",
   "execution_count": 10,
   "id": "348c1719-6c35-441d-ae21-dde258fff687",
   "metadata": {},
   "outputs": [
    {
     "name": "stdout",
     "output_type": "stream",
     "text": [
      "34\n"
     ]
    }
   ],
   "source": [
    "print(len(\"Supercalifragilisticexpialidocious\"))"
   ]
  },
  {
   "cell_type": "code",
   "execution_count": null,
   "id": "f52f11f8-6ccc-41ae-bae3-4c774155d592",
   "metadata": {},
   "outputs": [],
   "source": [
    "b. Does 'Supercalifragilisticexpialidocious' contain 'ice' as a substring?"
   ]
  },
  {
   "cell_type": "code",
   "execution_count": 11,
   "id": "99b32900-0e93-43ef-8c99-210e40e35236",
   "metadata": {},
   "outputs": [
    {
     "name": "stdout",
     "output_type": "stream",
     "text": [
      "True\n"
     ]
    }
   ],
   "source": [
    "print('ice' in 'Supercalifragilisticexpialidocious' )"
   ]
  },
  {
   "cell_type": "code",
   "execution_count": null,
   "id": "8b026cdd-524e-4c9d-bb4d-5ca9c7159a95",
   "metadata": {},
   "outputs": [],
   "source": [
    "c. Which of the following words is the longest:Supercalifragilisticexpialidocious, Honorificabilitudinitatibus, orBababadalgharaghtakamminarronnkonn?"
   ]
  },
  {
   "cell_type": "code",
   "execution_count": 12,
   "id": "be7e2bfe-d0c3-4665-8c96-c907294e886b",
   "metadata": {},
   "outputs": [
    {
     "name": "stdout",
     "output_type": "stream",
     "text": [
      "The longest word from the bunch is orBababadalgharaghtakamminarronnkonn\n"
     ]
    }
   ],
   "source": [
    "strings = [\"Supercalifragilisticexpialidocious\",\"Honorificabilitudinitatibus\",\"orBababadalgharaghtakamminarronnkonn\"]\n",
    "longest_count = 0\n",
    "longest_word = \"\"\n",
    "for x in strings:\n",
    "    if(len(x)>longest_count):\n",
    "        longest_word = x\n",
    "print(\"The longest word from the bunch is \" + longest_word)"
   ]
  },
  {
   "cell_type": "code",
   "execution_count": null,
   "id": "9b2d1fc8-97d2-455c-9349-56e3d8e61ab7",
   "metadata": {},
   "outputs": [],
   "source": [
    "d. Which composer comes first in the dictionary: 'Berlioz', 'Borodin', 'Brian','Bartok', 'Bellini', 'Buxtehude', 'Bernstein'. Which one comes last?"
   ]
  },
  {
   "cell_type": "code",
   "execution_count": null,
   "id": "da225504-6b0e-4733-8a16-88b17de815b2",
   "metadata": {},
   "outputs": [],
   "source": [
    "['Bartok', 'Bellini', 'Berlioz', 'Bernstein', 'Borodin', 'Brian', 'Buxtehude']"
   ]
  },
  {
   "cell_type": "code",
   "execution_count": null,
   "id": "31e0d429-d538-45b6-99af-0da51522b96f",
   "metadata": {},
   "outputs": [],
   "source": []
  },
  {
   "cell_type": "code",
   "execution_count": null,
   "id": "b018d294-ec07-4569-a680-063ad835a703",
   "metadata": {},
   "outputs": [],
   "source": [
    "Question 3\n",
    "\n",
    "Implement function triangleArea (a,b,c) that takes as input the lengths of the 3sides of a triangle and returns the area of the triangle. By Heron's formula,\n",
    "the area of a triangle with side lengths a, b, and c is s(s - a)(s - b)(s - c) , wheres = (a + b + c) /2\n",
    "\n"
   ]
  },
  {
   "cell_type": "code",
   "execution_count": null,
   "id": "d64a15ba-bfb5-4d6d-88cf-be6a536bb30d",
   "metadata": {},
   "outputs": [],
   "source": [
    "mport math\n",
    "def triangeArea(a, b,c):\n",
    "    s = ((a+b+c)/2)\n",
    "    area = math.sqrt(s*(s-a)*(s-b)*(s-c))\n",
    "    return area\n",
    "print(triangeArea(2,2,2))"
   ]
  },
  {
   "cell_type": "code",
   "execution_count": null,
   "id": "2c41abf1-831d-4923-8f9a-0f58a72b2193",
   "metadata": {},
   "outputs": [],
   "source": [
    "1.7320508075688772"
   ]
  },
  {
   "cell_type": "code",
   "execution_count": null,
   "id": "30623e32-a83f-4fe8-8aea-cc248b9e946d",
   "metadata": {},
   "outputs": [],
   "source": []
  },
  {
   "cell_type": "code",
   "execution_count": null,
   "id": "b1504636-ec9e-4e52-aab7-ceb0708ac16c",
   "metadata": {},
   "outputs": [],
   "source": [
    "Question 4\n",
    "\n",
    "Write a program in python to separate odd and even integers in separate arrays.\n",
    "Goto the editorTest Data :Input the number of elements to be stored in the array :5 Input 5 elements in the array : element - 0 : 25 element - 1 : 47 element - 2 : 42 element - 3 : 56 element - 4 : 32 Expected Output: The Even elements are:42 56 32 The Odd elements are :25 47\n",
    "\n"
   ]
  },
  {
   "cell_type": "code",
   "execution_count": 14,
   "id": "af5c9c73-ac01-47ee-a6de-3be8a753cacc",
   "metadata": {},
   "outputs": [
    {
     "name": "stdout",
     "output_type": "stream",
     "text": [
      "[42, 56, 32]\n",
      "[25, 47]\n"
     ]
    }
   ],
   "source": [
    "even_num = []\n",
    "odd_num = []\n",
    "given_string = [25,47,42,56,32]\n",
    "for x in given_string:\n",
    "    if(x%2==0):\n",
    "        even_num.append(x)\n",
    "    else:\n",
    "        odd_num.append(x)\n",
    "\n",
    "print(even_num)\n",
    "print(odd_num)"
   ]
  },
  {
   "cell_type": "code",
   "execution_count": null,
   "id": "d83b110e-5ed3-43e5-b7b3-43fb4ae42117",
   "metadata": {},
   "outputs": [],
   "source": []
  },
  {
   "cell_type": "code",
   "execution_count": null,
   "id": "9f3f8192-1b39-4c43-9d32-6bbc2ef07612",
   "metadata": {},
   "outputs": [],
   "source": [
    "Question 5\n",
    "\n",
    "a. Write a function inside(x,y,x1,y1,x2,y2) that returns True or Falsedepending on whether the point (x,y) lies in the rectangle with lower leftcorner (x1,y1) and upper right corner (x2,y2).\n",
    "\n",
    "inside(1,1,0,0,2,3) True inside(-1,-1,0,0,2,3) False\n",
    "\n",
    "b. Use function inside() from part a. to write an expression that tests whetherthe point (1,1) \n",
    "lies in both of the following rectangles: one with lower leftcorner (0.3, 0.5) and upper right corner (1.1, 0.7) and the other with lowerleft corner (0.5, 0.2) and upper right corner (1.1, 2).\n",
    "\n"
   ]
  },
  {
   "cell_type": "code",
   "execution_count": 15,
   "id": "e881ef5d-eb52-476e-a324-acfe7aa4a111",
   "metadata": {},
   "outputs": [
    {
     "name": "stdout",
     "output_type": "stream",
     "text": [
      "True\n",
      "False\n"
     ]
    }
   ],
   "source": [
    "def inside(x,y,x1,y1,x2,y2):\n",
    "    if (x > x1 and x < x2 and\n",
    "        y > y1 and y < y2) :\n",
    "        return True\n",
    "    else :\n",
    "        return False\n",
    "print(inside(1,1,0,0,2,3))\n",
    "print(inside(-1,-1,0,0,2,3))"
   ]
  },
  {
   "cell_type": "code",
   "execution_count": null,
   "id": "0095a410-a762-4390-9c4c-c2d7da3fb079",
   "metadata": {},
   "outputs": [],
   "source": []
  },
  {
   "cell_type": "code",
   "execution_count": null,
   "id": "87b376f8-803e-4f20-b765-9c7d9c77670a",
   "metadata": {},
   "outputs": [],
   "source": [
    "Question 6\n",
    "\n",
    "You can turn a word into pig-Latin using the following two rules (simplified): • If the word starts with a consonant, move that letter to the end and append'ay'. \n",
    "For example, 'happy' becomes 'appyhay' and 'pencil' becomes 'encilpay'. • If the word starts with a vowel, simply append 'way' to the end of the word.For example,\n",
    "'enter' becomes 'enterway' and 'other' becomes 'otherway' . \n",
    "For our purposes, there are 5 vowels: a, e, i, o, u (so we count y as a consonant).\n",
    "Write a function pig() that takes a word (i.e., a string) as input and returns its pig-Latin form. Your function should still work if the input word contains upper casecharacters. \n",
    "Your output should always be lower case however.\n",
    "\n",
    "pig('happy') 'appyhay' pig('Enter')' enterway'\n",
    "\n"
   ]
  },
  {
   "cell_type": "code",
   "execution_count": null,
   "id": "7515ef7a-c947-4548-98b4-6dea65b0797c",
   "metadata": {},
   "outputs": [
    {
     "name": "stdout",
     "output_type": "stream",
     "text": [
      "Enter a string\n"
     ]
    }
   ],
   "source": [
    "def pig(get_input):\n",
    "    string = get_input\n",
    "    arr_char = []\n",
    "    for x in string:\n",
    "            arr_char.append(x)\n",
    "    concat_string = \"\"\n",
    "    x = arr_char[0]\n",
    "\n",
    "             \n",
    "    if(x=='a' or x=='e' or x=='i' or x=='o' or x=='u'):\n",
    "            arr_char.append('way')\n",
    "    else:\n",
    "            arr_char.pop(0)\n",
    "            arr_char.append(x)\n",
    "            arr_char.append('ay') \n",
    "              \n",
    "    for x in arr_char:\n",
    "            concat_string +=x\n",
    "\n",
    "    return concat_string\n",
    "\n",
    "print(\"Enter a string\")\n",
    "get_value_from_user = input()\n",
    "print(pig(get_value_from_user))\n",
    "print(\"\\nEnter a string\")\n",
    "get_value_from_user = input()\n",
    "print(pig(get_value_from_user))"
   ]
  },
  {
   "cell_type": "code",
   "execution_count": null,
   "id": "ba10159d-dd05-4677-807b-3017379c1d0c",
   "metadata": {},
   "outputs": [],
   "source": []
  },
  {
   "cell_type": "code",
   "execution_count": null,
   "id": "fd6e067f-412d-406e-8e1e-397133375759",
   "metadata": {},
   "outputs": [],
   "source": [
    "Question 7\n",
    "\n",
    "File bloodtype1.txt records blood-types of patients (A, B, AB, O or OO) at a clinic.\n",
    "Write a function bldcount() that reads the file with name name and reports (i.e.,prints) how many patients there are in each bloodtype.\n",
    "\n",
    "bldcount('bloodtype.txt')"
   ]
  },
  {
   "cell_type": "code",
   "execution_count": null,
   "id": "70c12af2-34ea-4145-9910-301be863b9d0",
   "metadata": {},
   "outputs": [],
   "source": [
    "here are 10 patients of blood type A.There is one patient of blood type B.There are 10 patients of blood type AB.\n",
    "There are 12 patients of blood type O.There are no patients of blood type OO."
   ]
  },
  {
   "cell_type": "code",
   "execution_count": null,
   "id": "aaf15266-7c91-4d7a-87bd-f96dbe107eda",
   "metadata": {},
   "outputs": [],
   "source": []
  },
  {
   "cell_type": "code",
   "execution_count": null,
   "id": "c3c26364-997b-4e1d-b89d-32b6746ba51d",
   "metadata": {},
   "outputs": [],
   "source": [
    "8.Write a function curconv() that takes as input:\n",
    "\n",
    "1.a currency represented using a string (e.g., 'JPY' for the Japanese Yen or'EUR' for the Euro)\n",
    "2.an amount and then converts and returns the amount in US dollars.\n",
    "curconv('EUR', 100) 122.96544 curconv('JPY', 100) 1.241401\n",
    "\n",
    "The currency rates you will need are stored in file currencies.txt: AUD 1.0345157\n",
    "    Australian Dollar CHF 1.0237414 Swiss Franc CNY 0.1550176 Chinese Yuan DKK 0.1651442 Danish Krone EUR 1.2296544 Euro GBP 1.5550989 British Pound HKD 0.1270207 \n",
    "    Hong Kong Dollar INR 0.0177643 Indian Rupee JPY 0.01241401 Japanese Yen MXN 0.0751848\n",
    "    Mexican Peso MYR 0.3145411 Malaysian Ringgit NOK 0.1677063 Norwegian Krone NZD 0.8003591\n",
    "    New Zealand Dollar PHP 0.0233234 Philippine Peso SEK 0.148269 Swedish Krona SGD 0.788871 Singapore Dollar THB 0.0313789 Thai Baht"
   ]
  },
  {
   "cell_type": "code",
   "execution_count": null,
   "id": "5e39b78a-7a06-484e-ab00-9f1d2dedf7ee",
   "metadata": {},
   "outputs": [],
   "source": []
  },
  {
   "cell_type": "code",
   "execution_count": null,
   "id": "465859e7-a936-433d-a081-0bc98481a901",
   "metadata": {},
   "outputs": [],
   "source": [
    "Question 9\n",
    "\n",
    "Each of the following will cause an exception (an error). Identify what type of exception each will cause."
   ]
  },
  {
   "cell_type": "code",
   "execution_count": null,
   "id": "6a58d8ba-cdca-42f5-9f3c-55138b2a669a",
   "metadata": {},
   "outputs": [],
   "source": [
    "a. Trying to add incompatible variables, as in adding 6 + ‘a’"
   ]
  },
  {
   "cell_type": "code",
   "execution_count": null,
   "id": "e8a1639e-2676-456e-b995-644b516d7efd",
   "metadata": {},
   "outputs": [],
   "source": [
    "Answer is Unsupported operand type"
   ]
  },
  {
   "cell_type": "code",
   "execution_count": null,
   "id": "a378b049-f9e5-49f6-89d8-25f1bebe5dc1",
   "metadata": {},
   "outputs": [],
   "source": [
    "b. Referring to the 12th item of a list that has only 10 items"
   ]
  },
  {
   "cell_type": "code",
   "execution_count": null,
   "id": "cb3cbf83-e029-4150-aa90-5cce5c6103ff",
   "metadata": {},
   "outputs": [],
   "source": [
    "Answer is List Index out of range"
   ]
  },
  {
   "cell_type": "code",
   "execution_count": null,
   "id": "351c702f-54bd-4ed0-b4c0-8538c38ada84",
   "metadata": {},
   "outputs": [],
   "source": [
    "C.Using a value that is out of range for a function’s input, such as calling math.sqrt( 1.0)"
   ]
  },
  {
   "cell_type": "code",
   "execution_count": null,
   "id": "c5885d57-f01e-4b1c-82a0-c74f6e1623ab",
   "metadata": {},
   "outputs": [],
   "source": [
    "Maths domain error"
   ]
  },
  {
   "cell_type": "code",
   "execution_count": null,
   "id": "e9f9fee0-ad89-47c8-abc9-124e7b2212bd",
   "metadata": {},
   "outputs": [],
   "source": [
    "d. Using an undeclared variable, such as print(x) when x has not been define"
   ]
  },
  {
   "cell_type": "code",
   "execution_count": null,
   "id": "568c7416-dcab-494b-8060-8630fea63a8f",
   "metadata": {},
   "outputs": [],
   "source": [
    "Answer is that 'x' is not defined"
   ]
  },
  {
   "cell_type": "code",
   "execution_count": null,
   "id": "7983a5db-ef7f-45ee-9c6f-6d7ca541eb27",
   "metadata": {},
   "outputs": [],
   "source": [
    "e. Trying to open a file that does not exist, such as mistyping the file name or looking in the wrong directory."
   ]
  },
  {
   "cell_type": "code",
   "execution_count": null,
   "id": "d31f25cb-820f-4fdc-8541-26adebe9d2bf",
   "metadata": {},
   "outputs": [],
   "source": [
    "Answer is No such file or directory"
   ]
  },
  {
   "cell_type": "code",
   "execution_count": null,
   "id": "dc3162f3-7d99-4f00-9756-d099e638918e",
   "metadata": {},
   "outputs": [],
   "source": []
  },
  {
   "cell_type": "code",
   "execution_count": null,
   "id": "d7ae2efd-a487-4c94-80e0-2e8aea4160bd",
   "metadata": {},
   "outputs": [],
   "source": [
    "Question 10\n",
    "\n",
    "Encryption is the process of hiding the meaning of a text by substituting letters in the message with other letters, according to some system.\n",
    "If the process is successful, no one but the intended recipient can understand the encrypted message. \n",
    "Cryptanalysis refers to attempts to undo the encryption, even if some details of the encryption are unknown \n",
    "(for example, if an encrypted message has been intercepted). The first step of cryptanalysis is often to build up a table of letter\n",
    "frequencies in the encrypted text. Assume that the string letters is already defined as 'abcdefghijklmnopqrstuvwxyz'.\n",
    "Write a function called frequencies() that takes a string as its only parameter, and returns a list of integers, \n",
    "showing the number of times each character appears in the text. Your function may ignore any characters that are not in letters.\n",
    "\n"
   ]
  },
  {
   "cell_type": "code",
   "execution_count": null,
   "id": "fff67231-96c6-4df2-b683-5e18db816993",
   "metadata": {},
   "outputs": [],
   "source": [
    "def frequencies(get_string):\n",
    "    char_string = []\n",
    "    string_alphabets = \"abcdefghijklmnopkrstuvwxyz\"\n",
    "\n",
    "    for x in get_string:\n",
    "        char_string.append(x)\n",
    "    \n",
    "    for x in string_alphabets:\n",
    "        print(char_string.count(x))\n",
    "        \n",
    "\n",
    "frequencies('The quick red fox got bored and went home')"
   ]
  },
  {
   "cell_type": "code",
   "execution_count": null,
   "id": "afeb53be-76e0-407b-b329-c5595b355e1c",
   "metadata": {},
   "outputs": [],
   "source": [
    "1\n",
    "1\n",
    "1\n",
    "3\n",
    "5\n",
    "1\n",
    "1\n",
    "2\n",
    "1\n",
    "0\n",
    "1\n",
    "0\n",
    "1\n",
    "2\n",
    "4\n",
    "0\n",
    "1\n",
    "2\n",
    "0\n",
    "2\n",
    "1\n",
    "0\n",
    "1\n",
    "1\n",
    "0\n",
    "0\n"
   ]
  }
 ],
 "metadata": {
  "kernelspec": {
   "display_name": "Python 3 (ipykernel)",
   "language": "python",
   "name": "python3"
  },
  "language_info": {
   "codemirror_mode": {
    "name": "ipython",
    "version": 3
   },
   "file_extension": ".py",
   "mimetype": "text/x-python",
   "name": "python",
   "nbconvert_exporter": "python",
   "pygments_lexer": "ipython3",
   "version": "3.11.5"
  }
 },
 "nbformat": 4,
 "nbformat_minor": 5
}
